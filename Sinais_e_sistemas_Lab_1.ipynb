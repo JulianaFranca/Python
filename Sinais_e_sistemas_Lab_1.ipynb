{
  "nbformat": 4,
  "nbformat_minor": 0,
  "metadata": {
    "colab": {
      "name": "Sinais e sistemas Lab 1.ipynb",
      "provenance": [],
      "authorship_tag": "ABX9TyNvyBDKamB8u1VGjUCUgahX",
      "include_colab_link": true
    },
    "kernelspec": {
      "name": "python3",
      "display_name": "Python 3"
    },
    "language_info": {
      "name": "python"
    }
  },
  "cells": [
    {
      "cell_type": "markdown",
      "metadata": {
        "id": "view-in-github",
        "colab_type": "text"
      },
      "source": [
        "<a href=\"https://colab.research.google.com/github/JulianaFranca/Python/blob/master/Sinais_e_sistemas_Lab_1.ipynb\" target=\"_parent\"><img src=\"https://colab.research.google.com/assets/colab-badge.svg\" alt=\"Open In Colab\"/></a>"
      ]
    },
    {
      "cell_type": "code",
      "execution_count": null,
      "metadata": {
        "colab": {
          "base_uri": "https://localhost:8080/",
          "height": 35
        },
        "id": "13clMTiNASXr",
        "outputId": "43ff8a8a-7fb2-4c1d-d2b0-e7e9c11de0d3"
      },
      "outputs": [
        {
          "output_type": "execute_result",
          "data": {
            "text/plain": [
              "'Olá mundo'"
            ],
            "application/vnd.google.colaboratory.intrinsic+json": {
              "type": "string"
            }
          },
          "metadata": {},
          "execution_count": 4
        }
      ],
      "source": [
        "x = \"Olá mundo\"\n",
        "x"
      ]
    },
    {
      "cell_type": "markdown",
      "source": [
        "## ** Testing functions**"
      ],
      "metadata": {
        "id": "SDn0mY2kC2e5"
      }
    },
    {
      "cell_type": "code",
      "source": [
        "import numpy as np\n",
        "import matplotlib.pyplot as plt"
      ],
      "metadata": {
        "id": "2MVQVJk8B6ty"
      },
      "execution_count": null,
      "outputs": []
    },
    {
      "cell_type": "code",
      "source": [
        "def f(t):\n",
        "  return np.exp (-1*t) if t>0 else 0"
      ],
      "metadata": {
        "id": "Wf3hE-YhFe9N"
      },
      "execution_count": null,
      "outputs": []
    },
    {
      "cell_type": "code",
      "source": [
        "T= np.linspace (-30,30,100)\n",
        "L= len(T)\n",
        "x=np . zeros (L) "
      ],
      "metadata": {
        "id": "e4oamKnLEWic"
      },
      "execution_count": null,
      "outputs": []
    },
    {
      "cell_type": "code",
      "source": [
        "t0 = 0; a =1"
      ],
      "metadata": {
        "id": "F_Yf7VMvE0eV"
      },
      "execution_count": null,
      "outputs": []
    },
    {
      "cell_type": "code",
      "source": [
        "k=0\n",
        "for t in T:\n",
        "  x [k]= f(a*t+t0)\n",
        "  k=k+1"
      ],
      "metadata": {
        "id": "c04riya8E4tQ"
      },
      "execution_count": null,
      "outputs": []
    },
    {
      "cell_type": "markdown",
      "source": [
        "### **Plotando o sinal**"
      ],
      "metadata": {
        "id": "4Bbz_PWlFzZs"
      }
    },
    {
      "cell_type": "code",
      "source": [
        "plt.plot (T,x)\n",
        "plt.xlabel (\"Time\")\n",
        "plt.ylabel (\"Amplitude\")\n",
        "plt.grid (b=True)"
      ],
      "metadata": {
        "colab": {
          "base_uri": "https://localhost:8080/",
          "height": 279
        },
        "id": "0NY1kKWxFxEu",
        "outputId": "99f31ef9-3f1c-4bd1-fbfd-fb0865c133fc"
      },
      "execution_count": null,
      "outputs": [
        {
          "output_type": "display_data",
          "data": {
            "text/plain": [
              "<Figure size 432x288 with 1 Axes>"
            ],
            "image/png": "[encoded data removed]"
          },
          "metadata": {
            "needs_background": "light"
          }
        }
      ]
    },
    {
      "cell_type": "code",
      "source": [
        "def compute_x (a, t0):\n",
        "  k=0\n",
        "  for t in T:\n",
        "    x [k] = f(a*t + t0)\n",
        "    k=k+1\n",
        "  return x\n",
        "list_tests=[(1,0),(1,5),(1,-5)] \n",
        "for (a, t0) in list_tests:\n",
        "  x = compute_x (a,t0)\n",
        "  plt.plot (T,x ,label = \"a={},t0={}\".format (a,t0))\n",
        "\n",
        "plt.xlabel (\"Time\")\n",
        "plt.ylabel(\"Amplitude\")\n",
        "plt.grid (b=True)\n",
        "_= plt.legend()"
      ],
      "metadata": {
        "colab": {
          "base_uri": "https://localhost:8080/",
          "height": 279
        },
        "id": "ZtCT7yt0KHCk",
        "outputId": "1eee8763-a5d6-4f0d-d714-3eef3f0416ab"
      },
      "execution_count": null,
      "outputs": [
        {
          "output_type": "display_data",
          "data": {
            "text/plain": [
              "<Figure size 432x288 with 1 Axes>"
            ],
            "image/png": "[encoded data removed]"
          },
          "metadata": {
            "needs_background": "light"
          }
        }
      ]
    }
  ]
}